{
 "cells": [
  {
   "cell_type": "code",
   "execution_count": 6,
   "id": "76b5e603",
   "metadata": {},
   "outputs": [],
   "source": [
    "from bardapi import Bard\n",
    "from bardapi import BardCookies\n"
   ]
  },
  {
   "cell_type": "code",
   "execution_count": 23,
   "id": "dd9f1972",
   "metadata": {},
   "outputs": [
    {
     "ename": "Exception",
     "evalue": "Response status code is not 200. Response Status is 429",
     "output_type": "error",
     "traceback": [
      "\u001b[0;31m---------------------------------------------------------------------------\u001b[0m",
      "\u001b[0;31mException\u001b[0m                                 Traceback (most recent call last)",
      "Cell \u001b[0;32mIn[23], line 5\u001b[0m\n\u001b[1;32m      1\u001b[0m cookie_dict \u001b[38;5;241m=\u001b[39m {\n\u001b[1;32m      2\u001b[0m     \u001b[38;5;124m\"\u001b[39m\u001b[38;5;124m__Secure-1PSID\u001b[39m\u001b[38;5;124m\"\u001b[39m: \u001b[38;5;124m\"\u001b[39m\u001b[38;5;124mbQgKpBbPkfdjC56yATJfVElX665ra-0NNe3KnjS1PtOx0L5WwyguaNqx-JaQLREyvQmn7g.\u001b[39m\u001b[38;5;124m\"\u001b[39m,\n\u001b[1;32m      3\u001b[0m     \u001b[38;5;124m\"\u001b[39m\u001b[38;5;124m__Secure-1PSIDTS\u001b[39m\u001b[38;5;124m\"\u001b[39m: \u001b[38;5;124m\"\u001b[39m\u001b[38;5;124msidts-CjEB3e41hQh3CFC9kKEhmeF-O2QOJ9tmIyWJKII7JPdqOYVVUuvdJPaJAQtCEVgo8XXaEAA\u001b[39m\u001b[38;5;124m\"\u001b[39m,\n\u001b[1;32m      4\u001b[0m }\n\u001b[0;32m----> 5\u001b[0m bard \u001b[38;5;241m=\u001b[39m \u001b[43mBardCookies\u001b[49m\u001b[43m(\u001b[49m\u001b[43mcookie_dict\u001b[49m\u001b[38;5;241;43m=\u001b[39;49m\u001b[43mcookie_dict\u001b[49m\u001b[43m)\u001b[49m\n",
      "File \u001b[0;32m/Library/Frameworks/Python.framework/Versions/3.11/lib/python3.11/site-packages/bardapi/core_cookies.py:53\u001b[0m, in \u001b[0;36mBardCookies.__init__\u001b[0;34m(self, cookie_dict, timeout, proxies, session, conversation_id, google_translator_api_key, language, run_code, token_from_browser)\u001b[0m\n\u001b[1;32m     51\u001b[0m \u001b[38;5;28mself\u001b[39m\u001b[38;5;241m.\u001b[39mchoice_id \u001b[38;5;241m=\u001b[39m \u001b[38;5;124m\"\u001b[39m\u001b[38;5;124m\"\u001b[39m\n\u001b[1;32m     52\u001b[0m \u001b[38;5;28mself\u001b[39m\u001b[38;5;241m.\u001b[39msession \u001b[38;5;241m=\u001b[39m \u001b[38;5;28mself\u001b[39m\u001b[38;5;241m.\u001b[39m_get_session(session)\n\u001b[0;32m---> 53\u001b[0m \u001b[38;5;28mself\u001b[39m\u001b[38;5;241m.\u001b[39mSNlM0e \u001b[38;5;241m=\u001b[39m \u001b[38;5;28;43mself\u001b[39;49m\u001b[38;5;241;43m.\u001b[39;49m\u001b[43m_get_snim0e\u001b[49m\u001b[43m(\u001b[49m\u001b[43m)\u001b[49m\n\u001b[1;32m     54\u001b[0m \u001b[38;5;28mself\u001b[39m\u001b[38;5;241m.\u001b[39mlanguage \u001b[38;5;241m=\u001b[39m language \u001b[38;5;129;01mor\u001b[39;00m os\u001b[38;5;241m.\u001b[39mgetenv(\u001b[38;5;124m\"\u001b[39m\u001b[38;5;124m_BARD_API_LANG\u001b[39m\u001b[38;5;124m\"\u001b[39m)\n\u001b[1;32m     55\u001b[0m \u001b[38;5;28mself\u001b[39m\u001b[38;5;241m.\u001b[39mrun_code \u001b[38;5;241m=\u001b[39m run_code \u001b[38;5;129;01mor\u001b[39;00m \u001b[38;5;28;01mFalse\u001b[39;00m\n",
      "File \u001b[0;32m/Library/Frameworks/Python.framework/Versions/3.11/lib/python3.11/site-packages/bardapi/core_cookies.py:114\u001b[0m, in \u001b[0;36mBardCookies._get_snim0e\u001b[0;34m(self)\u001b[0m\n\u001b[1;32m    110\u001b[0m resp \u001b[38;5;241m=\u001b[39m \u001b[38;5;28mself\u001b[39m\u001b[38;5;241m.\u001b[39msession\u001b[38;5;241m.\u001b[39mget(\n\u001b[1;32m    111\u001b[0m     \u001b[38;5;124m\"\u001b[39m\u001b[38;5;124mhttps://bard.google.com/\u001b[39m\u001b[38;5;124m\"\u001b[39m, timeout\u001b[38;5;241m=\u001b[39m\u001b[38;5;28mself\u001b[39m\u001b[38;5;241m.\u001b[39mtimeout, proxies\u001b[38;5;241m=\u001b[39m\u001b[38;5;28mself\u001b[39m\u001b[38;5;241m.\u001b[39mproxies\n\u001b[1;32m    112\u001b[0m )\n\u001b[1;32m    113\u001b[0m \u001b[38;5;28;01mif\u001b[39;00m resp\u001b[38;5;241m.\u001b[39mstatus_code \u001b[38;5;241m!=\u001b[39m \u001b[38;5;241m200\u001b[39m:\n\u001b[0;32m--> 114\u001b[0m     \u001b[38;5;28;01mraise\u001b[39;00m \u001b[38;5;167;01mException\u001b[39;00m(\n\u001b[1;32m    115\u001b[0m         \u001b[38;5;124mf\u001b[39m\u001b[38;5;124m\"\u001b[39m\u001b[38;5;124mResponse status code is not 200. Response Status is \u001b[39m\u001b[38;5;132;01m{\u001b[39;00mresp\u001b[38;5;241m.\u001b[39mstatus_code\u001b[38;5;132;01m}\u001b[39;00m\u001b[38;5;124m\"\u001b[39m\n\u001b[1;32m    116\u001b[0m     )\n\u001b[1;32m    117\u001b[0m snim0e \u001b[38;5;241m=\u001b[39m re\u001b[38;5;241m.\u001b[39msearch(\u001b[38;5;124mr\u001b[39m\u001b[38;5;124m\"\u001b[39m\u001b[38;5;124mSNlM0e\u001b[39m\u001b[38;5;130;01m\\\"\u001b[39;00m\u001b[38;5;124m:\u001b[39m\u001b[38;5;130;01m\\\"\u001b[39;00m\u001b[38;5;124m(.*?)\u001b[39m\u001b[38;5;130;01m\\\"\u001b[39;00m\u001b[38;5;124m\"\u001b[39m, resp\u001b[38;5;241m.\u001b[39mtext)\n\u001b[1;32m    118\u001b[0m \u001b[38;5;28;01mif\u001b[39;00m \u001b[38;5;129;01mnot\u001b[39;00m snim0e:\n",
      "\u001b[0;31mException\u001b[0m: Response status code is not 200. Response Status is 429"
     ]
    }
   ],
   "source": [
    "cookie_dict = {\n",
    "    \"__Secure-1PSID\": \"bQgKpBbPkfdjC56yATJfVElX665ra-0NNe3KnjS1PtOx0L5WwyguaNqx-JaQLREyvQmn7g.\",\n",
    "    \"__Secure-1PSIDTS\": \"sidts-CjEB3e41hQh3CFC9kKEhmeF-O2QOJ9tmIyWJKII7JPdqOYVVUuvdJPaJAQtCEVgo8XXaEAA\",\n",
    "}\n",
    "bard = BardCookies(cookie_dict=cookie_dict)"
   ]
  },
  {
   "cell_type": "code",
   "execution_count": 25,
   "id": "32fe7b05",
   "metadata": {},
   "outputs": [],
   "source": [
    "file = open(\"input.txt\",\"r\")\n",
    "transcript = file.read()\n",
    "maxCharCtPerEntry = 10\n",
    "entries = [(transcript[i:i+maxCharCtPerEntry]) for i in range(0, len(transcript), maxCharCtPerEntry)]\n",
    "entries.insert(0, \"I will be entering a few prompts, once I enter Done after I have entered all the prompts, can you please summarize them for me in 10 bullet points?\")\n",
    "entries.append(\"Done\")"
   ]
  },
  {
   "cell_type": "code",
   "execution_count": 15,
   "id": "d7a30b16",
   "metadata": {},
   "outputs": [],
   "source": [
    "res = bard.get_answer(\"What is 5 plus 5?\")"
   ]
  },
  {
   "cell_type": "code",
   "execution_count": 12,
   "id": "9921b937",
   "metadata": {},
   "outputs": [
    {
     "data": {
      "text/plain": [
       "'5 plus 5 is 10.'"
      ]
     },
     "execution_count": 12,
     "metadata": {},
     "output_type": "execute_result"
    }
   ],
   "source": [
    "res['content']"
   ]
  }
 ],
 "metadata": {
  "kernelspec": {
   "display_name": "Python 3 (ipykernel)",
   "language": "python",
   "name": "python3"
  },
  "language_info": {
   "codemirror_mode": {
    "name": "ipython",
    "version": 3
   },
   "file_extension": ".py",
   "mimetype": "text/x-python",
   "name": "python",
   "nbconvert_exporter": "python",
   "pygments_lexer": "ipython3",
   "version": "3.11.3"
  }
 },
 "nbformat": 4,
 "nbformat_minor": 5
}
