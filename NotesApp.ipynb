{
 "cells": [
  {
   "cell_type": "code",
   "execution_count": 27,
   "id": "76b5e603",
   "metadata": {},
   "outputs": [],
   "source": [
    "from bardapi import Bard\n",
    "from bardapi import BardCookies\n"
   ]
  },
  {
   "cell_type": "code",
   "execution_count": 30,
   "id": "95025480",
   "metadata": {},
   "outputs": [],
   "source": [
    "# cookie_dict = {\n",
    "#     \"__Secure-1PSID\": \"cAgKpBWNYposvq6Ypq0jUB6sFudwDeobgE7YOsr0pnm1aUPukbhTJy-IYB92L7BeRILI-Q.\",\n",
    "#     \"__Secure-1PSIDTS\": \"sidts-CjEB3e41hQh3CFC9kKEhmeF-O2QOJ9tmIyWJKII7JPdqOYVVUuvdJPaJAQtCEVgo8XXaEAA\",\n",
    "# }\n",
    "# bard = BardCookies(cookie_dict=cookie_dict)\n",
    "\n",
    "token = \"cAgKpBWNYposvq6Ypq0jUB6sFudwDeobgE7YOsr0pnm1aUPukbhTJy-IYB92L7BeRILI-Q.\"\n",
    "bard = Bard(token=token)"
   ]
  },
  {
   "cell_type": "code",
   "execution_count": 33,
   "id": "88cf9437",
   "metadata": {},
   "outputs": [],
   "source": [
    "file = open(\"input.txt\",\"r\")\n",
    "transcript = file.read()\n",
    "maxCharCtPerEntry = 500\n",
    "entries = [(transcript[i:i+maxCharCtPerEntry]) for i in range(0, len(transcript), maxCharCtPerEntry)]\n",
    "entries.insert(0, \"I will be entering a few prompts, once I enter Done after I have entered all the prompts, can you please summarize them for me in 10 bullet points?\")\n",
    "entries.append(\"Done\")"
   ]
  },
  {
   "cell_type": "code",
   "execution_count": 34,
   "id": "87517325",
   "metadata": {},
   "outputs": [],
   "source": [
    "for entry in entries:\n",
    "    res = bard.get_answer(entry)"
   ]
  },
  {
   "cell_type": "code",
   "execution_count": 35,
   "id": "1165cc90",
   "metadata": {},
   "outputs": [
    {
     "data": {
      "text/plain": [
       "'**Summary of all prompts in 10 bullet points:**\\n\\n* Different cultures have different perceptions of time.\\n* Edward T. Hall\\'s concept of monochronic and polychronic time can be helpful for understanding cross-cultural differences in time perception and behavior.\\n* Monochronic cultures focus on one task at a time and value punctuality and schedules.\\n* Polychronic cultures focus on multiple tasks at once and are more flexible with time.\\n* Cultural perceptions of time can affect many aspects of life, including business, education, and social relationships.\\n* It is important to be aware of cultural differences in time perception in order to avoid misunderstandings and conflicts.\\n* Some strategies for dealing with cross-cultural differences in time perception include being flexible with your schedule, being prepared to wait, and being understanding of different cultural norms.\\n* In his book The Dance of Life, Hall writes that \"time is one of the fundamental bases on which all cultures rest and around which all activities revolve.\"\\n* Hall\\'s notion of monochronism and polychronism can be understood as follows:\\n    * Monochronic time is characterized by a linear view of time, a focus on one task at a time, and a high value placed on punctuality and schedules.\\n    * Polychronic time is characterized by a cyclical view of time, a focus on multiple tasks at once, and a more flexible approach to punctuality and schedules.\\n* Here is a table that summarizes the key differences between monochronic and polychronic time:\\n\\n| Characteristic | Monochronic time | Polychronic time |\\n|---|---|---|\\n| View of time | Linear | Cyclical |\\n| Focus | One task at a time | Multiple tasks at once |\\n| Punctuality | Highly valued | Less valued |\\n| Schedules | Strictly adhered to | More flexible |\\n| Cultural values | Individualism, competition | Collectivism, cooperation |\\n\\n* Here are some examples of monochronic and polychronic behavior:\\n\\n**Monochronic behavior:**\\n\\n* Arriving on time for appointments\\n* Sticking to a schedule\\n* Focusing on one task at a time\\n* Completing tasks in a sequential order\\n* Giving undivided attention to someone who is speaking\\n\\n**Polychronic behavior:**\\n\\n* Arriving late for appointments\\n* Multitasking\\n* Interrupting people\\n* Changing plans frequently\\n* Being flexible with time\\n\\nIt is important to be aware of your own cultural biases towards time and to be respectful of other cultures\\' time perceptions.'"
      ]
     },
     "execution_count": 35,
     "metadata": {},
     "output_type": "execute_result"
    }
   ],
   "source": [
    "res['content']"
   ]
  },
  {
   "cell_type": "code",
   "execution_count": null,
   "id": "09a333c2",
   "metadata": {},
   "outputs": [],
   "source": []
  }
 ],
 "metadata": {
  "kernelspec": {
   "display_name": "Python 3 (ipykernel)",
   "language": "python",
   "name": "python3"
  },
  "language_info": {
   "codemirror_mode": {
    "name": "ipython",
    "version": 3
   },
   "file_extension": ".py",
   "mimetype": "text/x-python",
   "name": "python",
   "nbconvert_exporter": "python",
   "pygments_lexer": "ipython3",
   "version": "3.11.3"
  }
 },
 "nbformat": 4,
 "nbformat_minor": 5
}
